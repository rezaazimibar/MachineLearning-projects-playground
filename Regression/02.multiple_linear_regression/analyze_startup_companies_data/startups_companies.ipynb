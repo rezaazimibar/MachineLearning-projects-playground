{
  "nbformat": 4,
  "nbformat_minor": 0,
  "metadata": {
    "colab": {
      "provenance": []
    },
    "kernelspec": {
      "name": "python3",
      "display_name": "Python 3"
    },
    "language_info": {
      "name": "python"
    }
  },
  "cells": [
    {
      "cell_type": "markdown",
      "source": [
        "# startups data analys project"
      ],
      "metadata": {
        "id": "SerZka5qUhGU"
      }
    },
    {
      "cell_type": "markdown",
      "source": [
        "## importing the library"
      ],
      "metadata": {
        "id": "VnFCFVHVUtZy"
      }
    },
    {
      "cell_type": "code",
      "execution_count": null,
      "metadata": {
        "id": "irkDZIQzT1bz"
      },
      "outputs": [],
      "source": [
        "import numpy as np\n",
        "import pandas as pd\n",
        "import matplotlib.pyplot as plt"
      ]
    },
    {
      "cell_type": "markdown",
      "source": [
        "## importing the dataset"
      ],
      "metadata": {
        "id": "Zb-0J3t18Pzk"
      }
    },
    {
      "cell_type": "code",
      "source": [
        "data = pd.read_csv(\"data.csv\")"
      ],
      "metadata": {
        "id": "ZW--XsXHUfnk"
      },
      "execution_count": null,
      "outputs": []
    }
  ]
}