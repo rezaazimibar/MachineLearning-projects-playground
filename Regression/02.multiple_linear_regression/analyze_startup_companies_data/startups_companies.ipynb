{
  "nbformat": 4,
  "nbformat_minor": 0,
  "metadata": {
    "colab": {
      "provenance": []
    },
    "kernelspec": {
      "name": "python3",
      "display_name": "Python 3"
    },
    "language_info": {
      "name": "python"
    }
  },
  "cells": [
    {
      "cell_type": "markdown",
      "source": [
        "# startups data analys project"
      ],
      "metadata": {
        "id": "SerZka5qUhGU"
      }
    },
    {
      "cell_type": "markdown",
      "source": [
        "## importing the library"
      ],
      "metadata": {
        "id": "VnFCFVHVUtZy"
      }
    },
    {
      "cell_type": "code",
      "execution_count": 18,
      "metadata": {
        "id": "irkDZIQzT1bz"
      },
      "outputs": [],
      "source": [
        "import numpy as np\n",
        "import pandas as pd\n",
        "import matplotlib.pyplot as plt"
      ]
    },
    {
      "cell_type": "markdown",
      "source": [
        "## importing the dataset"
      ],
      "metadata": {
        "id": "Zb-0J3t18Pzk"
      }
    },
    {
      "cell_type": "code",
      "source": [
        "data = pd.read_csv(\"data.csv\")\n",
        "x = data.iloc[:,:-1].values\n",
        "y = data.iloc[:,-1].values"
      ],
      "metadata": {
        "id": "ZW--XsXHUfnk"
      },
      "execution_count": 19,
      "outputs": []
    },
    {
      "cell_type": "markdown",
      "source": [
        "## encodeing the categorical variable"
      ],
      "metadata": {
        "id": "7EyKHTBAGdQ0"
      }
    },
    {
      "cell_type": "code",
      "source": [
        "from sklearn.compose import ColumnTransformer\n",
        "from sklearn.preprocessing import OneHotEncoder\n",
        "\n",
        "ct = ColumnTransformer(transformers=[('encoder',OneHotEncoder(),[3])], remainder = 'passthrough')\n",
        "x = np.array(ct.fit_transform(x))"
      ],
      "metadata": {
        "id": "j-pRTVizGhrD"
      },
      "execution_count": 20,
      "outputs": []
    },
    {
      "cell_type": "markdown",
      "source": [
        "## splitting the dataset into the training set and test set"
      ],
      "metadata": {
        "id": "hdwmzgDJEZSs"
      }
    },
    {
      "cell_type": "code",
      "source": [
        "from sklearn.model_selection import train_test_split\n",
        "\n",
        "x_train, x_test, y_train, y_test = train_test_split(x, y, test_size=0.2, random_state=45)"
      ],
      "metadata": {
        "id": "SZscky31EhUT"
      },
      "execution_count": 21,
      "outputs": []
    }
  ]
}