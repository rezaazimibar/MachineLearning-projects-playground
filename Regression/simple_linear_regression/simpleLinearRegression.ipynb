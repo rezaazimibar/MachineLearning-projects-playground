{
  "nbformat": 4,
  "nbformat_minor": 0,
  "metadata": {
    "colab": {
      "provenance": []
    },
    "kernelspec": {
      "name": "python3",
      "display_name": "Python 3"
    },
    "language_info": {
      "name": "python"
    }
  },
  "cells": [
    {
      "cell_type": "markdown",
      "source": [
        "#simple linear regression"
      ],
      "metadata": {
        "id": "GYs-Sak9YraG"
      }
    },
    {
      "cell_type": "markdown",
      "source": [
        "## importing the data"
      ],
      "metadata": {
        "id": "nH3zeStqYyRF"
      }
    },
    {
      "cell_type": "code",
      "execution_count": null,
      "metadata": {
        "id": "0YmWH65zQxwv"
      },
      "outputs": [],
      "source": [
        "import numpy as np\n",
        "import pandas as pd\n",
        "import matplotlib.pyplot as plt"
      ]
    }
  ]
}