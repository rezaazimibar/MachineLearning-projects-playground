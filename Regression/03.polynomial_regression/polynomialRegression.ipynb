{
  "nbformat": 4,
  "nbformat_minor": 0,
  "metadata": {
    "colab": {
      "provenance": []
    },
    "kernelspec": {
      "name": "python3",
      "display_name": "Python 3"
    },
    "language_info": {
      "name": "python"
    }
  },
  "cells": [
    {
      "cell_type": "markdown",
      "source": [
        "#Polynomial Regression"
      ],
      "metadata": {
        "id": "B-7N80hq2YbX"
      }
    },
    {
      "cell_type": "markdown",
      "source": [
        "##import library"
      ],
      "metadata": {
        "id": "T3m6jJ8r3N_-"
      }
    },
    {
      "cell_type": "code",
      "source": [
        "import numpy as np\n",
        "import pandas as pd\n",
        "import matplotlib as plt"
      ],
      "metadata": {
        "id": "y7Xf4_4_3Q4-"
      },
      "execution_count": 9,
      "outputs": []
    },
    {
      "cell_type": "markdown",
      "source": [
        "##importing the dataset"
      ],
      "metadata": {
        "id": "JhaLE4Xa64kG"
      }
    },
    {
      "cell_type": "code",
      "source": [
        "data = pd.read_csv(\"Position_Salaries.csv\")"
      ],
      "metadata": {
        "id": "IZUN9HA868ON"
      },
      "execution_count": 10,
      "outputs": []
    },
    {
      "cell_type": "markdown",
      "source": [
        "##slicing the data"
      ],
      "metadata": {
        "id": "O-HsduhK7Ssd"
      }
    },
    {
      "cell_type": "code",
      "source": [
        "x = data.iloc[:,:-1].values\n",
        "y = data.iloc[:,-1].values"
      ],
      "metadata": {
        "id": "zy1dvFeR7SUF",
        "colab": {
          "base_uri": "https://localhost:8080/"
        },
        "outputId": "eaa044cd-e70e-417a-ea4c-43f80d64cf91"
      },
      "execution_count": 11,
      "outputs": [
        {
          "output_type": "execute_result",
          "data": {
            "text/plain": [
              "array([['Business Analyst', 1],\n",
              "       ['Junior Consultant', 2],\n",
              "       ['Senior Consultant', 3],\n",
              "       ['Manager', 4],\n",
              "       ['Country Manager', 5],\n",
              "       ['Region Manager', 6],\n",
              "       ['Partner', 7],\n",
              "       ['Senior Partner', 8],\n",
              "       ['C-level', 9],\n",
              "       ['CEO', 10]], dtype=object)"
            ]
          },
          "metadata": {},
          "execution_count": 11
        }
      ]
    },
    {
      "cell_type": "markdown",
      "source": [
        "##spliting the data into test and training"
      ],
      "metadata": {
        "id": "AAF_T505HQSy"
      }
    },
    {
      "cell_type": "code",
      "source": [
        "from sklearn.model_selection import train_test_split\n",
        "\n",
        "x_train, x_test, y_train, y_test = train_test_split(x, y, test_size=0.2, random_state=42)"
      ],
      "metadata": {
        "colab": {
          "base_uri": "https://localhost:8080/"
        },
        "id": "cPvpV7maHXvC",
        "outputId": "ee58d5f3-a0d7-4729-ca36-86fde9eaf688"
      },
      "execution_count": 12,
      "outputs": [
        {
          "output_type": "execute_result",
          "data": {
            "text/plain": [
              "(array([['Region Manager', 6],\n",
              "        ['Business Analyst', 1],\n",
              "        ['Senior Partner', 8],\n",
              "        ['Senior Consultant', 3],\n",
              "        ['CEO', 10],\n",
              "        ['Country Manager', 5],\n",
              "        ['Manager', 4],\n",
              "        ['Partner', 7]], dtype=object),\n",
              " array([500000,  50000]))"
            ]
          },
          "metadata": {},
          "execution_count": 12
        }
      ]
    }
  ]
}